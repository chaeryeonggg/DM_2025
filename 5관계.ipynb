{
  "nbformat": 4,
  "nbformat_minor": 0,
  "metadata": {
    "colab": {
      "provenance": [],
      "authorship_tag": "ABX9TyOr/4sWkmCfE5IRymIQPW9k",
      "include_colab_link": true
    },
    "kernelspec": {
      "name": "python3",
      "display_name": "Python 3"
    },
    "language_info": {
      "name": "python"
    }
  },
  "cells": [
    {
      "cell_type": "markdown",
      "metadata": {
        "id": "view-in-github",
        "colab_type": "text"
      },
      "source": [
        "<a href=\"https://colab.research.google.com/github/chaeryeonggg/DM_2025/blob/main/5%EA%B4%80%EA%B3%84.ipynb\" target=\"_parent\"><img src=\"https://colab.research.google.com/assets/colab-badge.svg\" alt=\"Open In Colab\"/></a>"
      ]
    },
    {
      "cell_type": "code",
      "execution_count": null,
      "metadata": {
        "id": "6ppRw--UHlwo"
      },
      "outputs": [],
      "source": [
        "import numpy as np\n",
        "import networkx as nx\n",
        "import matplotlib.pyplot as plt"
      ]
    },
    {
      "cell_type": "code",
      "source": [
        "A={1,2,3}\n",
        "B={2,3,4}\n",
        "# A에서 B로 가는 이항관계 R\n",
        "R={(1,2),(2,3),(3,2),(3,4)}\n",
        "\n",
        "print(\"관계 R:\",R)\n"
      ],
      "metadata": {
        "colab": {
          "base_uri": "https://localhost:8080/"
        },
        "id": "TU6ILY-fH0b0",
        "outputId": "80a2975f-5e78-4b4e-dfc3-3155cc0177fe"
      },
      "execution_count": null,
      "outputs": [
        {
          "output_type": "stream",
          "name": "stdout",
          "text": [
            "관계 R: {(2, 3), (3, 2), (1, 2), (3, 4)}\n"
          ]
        }
      ]
    },
    {
      "cell_type": "code",
      "source": [
        "A_list=sorted(A)\n",
        "B_list=sorted(B)\n",
        "\n",
        "relation_matrix=np.zeros((len(A_list),len(B_list)),dtype=int)\n",
        "\n",
        "for i,a in enumerate(A_list):\n",
        "  for j,b in enumerate(B_list):\n",
        "    if(a,b)in R:\n",
        "      relation_matrix[i,j]=1\n",
        "\n",
        "print(\"관계 행렬(rows: A, columns:B):\")\n",
        "print(relation_matrix)"
      ],
      "metadata": {
        "colab": {
          "base_uri": "https://localhost:8080/"
        },
        "id": "tLUeb2VQIFOp",
        "outputId": "5fb57f07-a548-4936-ec8d-ffbf35721cb9"
      },
      "execution_count": null,
      "outputs": [
        {
          "output_type": "stream",
          "name": "stdout",
          "text": [
            "관계 행렬(rows: A, columns:B):\n",
            "[[1 0 0]\n",
            " [0 1 0]\n",
            " [1 0 1]]\n"
          ]
        }
      ]
    },
    {
      "cell_type": "code",
      "source": [
        "# R: A->B\n",
        "# S: B->C\n",
        "C={'x','y'}\n",
        "S={(2,'x'),(3,'y'),(4,'x')}\n",
        "\n",
        "# 합성 관계 RºS\n",
        "composed_relation =set()\n",
        "\n",
        "for(a,b1) in R:\n",
        "  for(b2,c) in S:\n",
        "    if b1==b2:\n",
        "      composed_relation.add((a,c))\n",
        "print(\"\\n합성관계  RºS:\", composed_relation)"
      ],
      "metadata": {
        "colab": {
          "base_uri": "https://localhost:8080/"
        },
        "id": "fG2dqBAmJCUf",
        "outputId": "5ddc8771-e2d9-407e-d3f5-7c83c4ffe637"
      },
      "execution_count": null,
      "outputs": [
        {
          "output_type": "stream",
          "name": "stdout",
          "text": [
            "\n",
            "합성관계  RºS: {(3, 'x'), (1, 'x'), (2, 'y')}\n"
          ]
        }
      ]
    }
  ]
}