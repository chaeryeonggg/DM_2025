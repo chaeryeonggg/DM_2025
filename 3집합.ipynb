{
  "nbformat": 4,
  "nbformat_minor": 0,
  "metadata": {
    "colab": {
      "provenance": [],
      "authorship_tag": "ABX9TyNKdCfSgOmWHTqwNraZHT+q",
      "include_colab_link": true
    },
    "kernelspec": {
      "name": "python3",
      "display_name": "Python 3"
    },
    "language_info": {
      "name": "python"
    }
  },
  "cells": [
    {
      "cell_type": "markdown",
      "metadata": {
        "id": "view-in-github",
        "colab_type": "text"
      },
      "source": [
        "<a href=\"https://colab.research.google.com/github/chaeryeonggg/DM_2025/blob/main/3%EC%A7%91%ED%95%A9.ipynb\" target=\"_parent\"><img src=\"https://colab.research.google.com/assets/colab-badge.svg\" alt=\"Open In Colab\"/></a>"
      ]
    },
    {
      "cell_type": "code",
      "execution_count": 1,
      "metadata": {
        "colab": {
          "base_uri": "https://localhost:8080/"
        },
        "id": "kpyleUx_0RIA",
        "outputId": "e7a95835-29a4-464f-9d90-f1634d32f647"
      },
      "outputs": [
        {
          "output_type": "stream",
          "name": "stdout",
          "text": [
            "{1, 2, 3}\n",
            "{2, 3, 4}\n",
            "{2, 3}\n",
            "{1, 2, 3, 4}\n",
            "{1}\n"
          ]
        }
      ],
      "source": [
        "s1=set([1,2,3])\n",
        "print(s1)\n",
        "s2=set([2,3,4])\n",
        "print(s2)\n",
        "\n",
        "print(s1&s2)\n",
        "print(s1|s2)\n",
        "print(s1-s2)"
      ]
    },
    {
      "cell_type": "code",
      "source": [
        "bankA_customers = set([\"김철수\",\"이영희\",\"박민수\",\"최지우\"])\n",
        "bankB_customers = set([\"이영희\",\"최지우\",\"정우성\",\"한지민\"])\n",
        "\n",
        "print(\"은행 A 고객\",bankA_customers)\n",
        "print(\"은행 B 고객\",bankB_customers)\n",
        "\n",
        "# 두 은행의 전체 고객 집합(합집합)\n",
        "total_customers = bankA_customers | bankB_customers\n",
        "print(\"합병 후 전체 고객\",total_customers)\n",
        "\n",
        "#두 은행 모두에 있는 공통 고객(교집합)\n",
        "common_customers = bankA_customers & bankB_customers\n",
        "print(\"공통 고객\",common_customers)\n",
        "\n",
        "#A 은행에만 있는 고객(차집합)\n",
        "only_A_customers = bankA_customers - bankB_customers\n",
        "print(\"A 은행에만 있는 고객\",only_A_customers)\n",
        "\n",
        "# B 은행에만 있는 고객(차집합)\n",
        "only_B_customers = bankB_customers - bankA_customers\n",
        "print(\"B 은행에만 있는 고객\",only_B_customers)\n",
        "\n",
        "\n"
      ],
      "metadata": {
        "colab": {
          "base_uri": "https://localhost:8080/"
        },
        "id": "Nyr4VgIDbvei",
        "outputId": "2f78417c-a81a-4530-a665-0f092264eaf0"
      },
      "execution_count": 2,
      "outputs": [
        {
          "output_type": "stream",
          "name": "stdout",
          "text": [
            "은행 A 고객 {'최지우', '이영희', '박민수', '김철수'}\n",
            "은행 B 고객 {'한지민', '최지우', '이영희', '정우성'}\n",
            "합병 후 전체 고객 {'최지우', '이영희', '박민수', '김철수', '한지민', '정우성'}\n",
            "공통 고객 {'최지우', '이영희'}\n",
            "A 은행에만 있는 고객 {'김철수', '박민수'}\n",
            "B 은행에만 있는 고객 {'한지민', '정우성'}\n"
          ]
        }
      ]
    },
    {
      "cell_type": "code",
      "source": [
        "import numpy as np\n",
        "\n",
        "#12가지 파버카스텔 색연필 색상\n",
        "faber_castell_colors ={\n",
        "    \"white\" : (255,255,255),\n",
        "    \"Black\" : (0,0,0),\n",
        "    \"Brown\": (165,42,42),\n",
        "    \"Orange\" : (255,127,0),\n",
        "    \"Red\" : (255,0,0),\n",
        "    \"Yellow\" : (255,255,0),\n",
        "    \"Light Green\" : (0,255,0),\n",
        "    \"Green\" : (0,128,0),\n",
        "    \"Light Green\" : (0,255,255),\n",
        "    \"Blue\" : (0,0,255),\n",
        "    \"Purple\" : (128,0,128),\n",
        "    \"Pink\" : (255,192,203)\n",
        "}\n",
        "\n",
        "input_Color =(120,100,200)\n",
        "\n",
        "def find_nearest_color(input_rgb,color_set):\n",
        "    min_dist = float('inf')\n",
        "    nearest_name = None\n",
        "\n",
        "    for name, rgb in color_set.items():\n",
        "      #유클리드 거리\n",
        "        dist = np.sqrt(sum((a-b)**2 for a,b in zip(input_rgb,rgb)))\n",
        "        if dist < min_dist:\n",
        "            min_dist = dist\n",
        "            nearest_name = name\n",
        "    return nearest_name, color_set[nearest_name]\n",
        "\n",
        "\n",
        "nearest_name, nearest_rgb = find_nearest_color(input_Color, faber_castell_colors)\n",
        "\n",
        "print(f\"입력색상 : {input_Color}\")\n",
        "print(f\"가장 가까운 색상 : {nearest_name}, RGB: {nearest_rgb}\")"
      ],
      "metadata": {
        "colab": {
          "base_uri": "https://localhost:8080/"
        },
        "id": "2LA1c219cYmf",
        "outputId": "f0c7fcf2-8921-479c-bee2-525b46b4945d"
      },
      "execution_count": 3,
      "outputs": [
        {
          "output_type": "stream",
          "name": "stdout",
          "text": [
            "입력색상 : (120, 100, 200)\n",
            "가장 가까운 색상 : Purple, RGB: (128, 0, 128)\n"
          ]
        }
      ]
    }
  ]
}